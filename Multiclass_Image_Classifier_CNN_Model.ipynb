{
 "cells": [
  {
   "cell_type": "code",
   "execution_count": 24,
   "id": "friendly-brain",
   "metadata": {},
   "outputs": [],
   "source": [
    "import tensorflow as tf\n",
    "from tensorflow import keras\n",
    "from tensorflow.keras.preprocessing.image import ImageDataGenerator\n",
    "from tensorflow.keras.preprocessing import image\n",
    "import matplotlib.pyplot as plt\n",
    "import numpy as np\n",
    "import cv2\n",
    "import os"
   ]
  },
  {
   "cell_type": "code",
   "execution_count": 53,
   "id": "hindu-instruction",
   "metadata": {},
   "outputs": [],
   "source": [
    "class_names = ['Angry','Disgust','Fear','Happy','Neutral','Sad','Surprise']"
   ]
  },
  {
   "cell_type": "code",
   "execution_count": 4,
   "id": "religious-resident",
   "metadata": {},
   "outputs": [],
   "source": [
    "train_datagen = ImageDataGenerator(\n",
    "        rescale=1./255,\n",
    "        shear_range=0.2,\n",
    "        zoom_range=0.2,\n",
    "        horizontal_flip=True)\n",
    "\n",
    "test_datagen = ImageDataGenerator(rescale=1./255)"
   ]
  },
  {
   "cell_type": "code",
   "execution_count": 6,
   "id": "reasonable-asbestos",
   "metadata": {},
   "outputs": [
    {
     "name": "stdout",
     "output_type": "stream",
     "text": [
      "Found 92968 images belonging to 7 classes.\n",
      "Found 17356 images belonging to 7 classes.\n"
     ]
    }
   ],
   "source": [
    "train_generator = train_datagen.flow_from_directory('/Users/trishit/Code/Udemy/Tensorflow-Bootcamp/Human-Emotion-Detection/dataset/train', \n",
    "                                                    batch_size = 32, target_size = (64,64), class_mode = 'categorical')\n",
    "\n",
    "test_generator = test_datagen.flow_from_directory('/Users/trishit/Code/Udemy/Tensorflow-Bootcamp/Human-Emotion-Detection/dataset/test', \n",
    "                                                   batch_size = 32, target_size = (64,64), class_mode = 'categorical')\n",
    "\n"
   ]
  },
  {
   "cell_type": "code",
   "execution_count": 7,
   "id": "quick-antarctica",
   "metadata": {},
   "outputs": [
    {
     "data": {
      "text/plain": [
       "{'angry': 0,\n",
       " 'disgust': 1,\n",
       " 'fear': 2,\n",
       " 'happy': 3,\n",
       " 'neutral': 4,\n",
       " 'sad': 5,\n",
       " 'surprise': 6}"
      ]
     },
     "execution_count": 7,
     "metadata": {},
     "output_type": "execute_result"
    }
   ],
   "source": [
    "test_generator.class_indices"
   ]
  },
  {
   "cell_type": "code",
   "execution_count": 8,
   "id": "animated-british",
   "metadata": {},
   "outputs": [
    {
     "name": "stdout",
     "output_type": "stream",
     "text": [
      "WARNING:tensorflow:From /opt/anaconda3/envs/tfdeeplearning/lib/python3.5/site-packages/tensorflow_core/python/ops/resource_variable_ops.py:1630: calling BaseResourceVariable.__init__ (from tensorflow.python.ops.resource_variable_ops) with constraint is deprecated and will be removed in a future version.\n",
      "Instructions for updating:\n",
      "If using Keras pass *_constraint arguments to layers.\n"
     ]
    }
   ],
   "source": [
    "# Creating the Image Classifier CNN Model\n",
    "cnn = tf.keras.models.Sequential()\n",
    "\n",
    "#Convolution and Max Pooling layer 1\n",
    "cnn.add(tf.keras.layers.Conv2D(filters=48, kernel_size=3, activation='relu', input_shape=[64,64,3]))\n",
    "cnn.add(tf.keras.layers.MaxPool2D(pool_size=2, strides=2))\n",
    "\n",
    "#Convolution and Max Pooling layer 2\n",
    "cnn.add(tf.keras.layers.Conv2D(filters=48, kernel_size=3, activation='relu'))\n",
    "cnn.add(tf.keras.layers.MaxPool2D(pool_size=2, strides=2))\n",
    "\n",
    "#Convolution and Max Pooling layer 3\n",
    "cnn.add(tf.keras.layers.Conv2D(filters=32, kernel_size=3, activation='relu'))\n",
    "cnn.add(tf.keras.layers.MaxPool2D(pool_size=2, strides=2))\n",
    "\n",
    "#Converting the multi-dimension image data array to 1d array\n",
    "cnn.add(tf.keras.layers.Flatten())\n",
    "\n",
    "#Fully Connected layer 1\n",
    "cnn.add(tf.keras.layers.Dense(128, activation='relu'))\n",
    "\n",
    "#Fully Connected layer 2\n",
    "cnn.add(tf.keras.layers.Dense(64, activation='relu'))\n",
    "\n",
    "#output layer -> 7 Neurons for 7 different classes\n",
    "#activation function used for multiclass classification is softmax, for binary use sigmoid as activation fxn\n",
    "cnn.add(tf.keras.layers.Dense(7, activation='softmax'))"
   ]
  },
  {
   "cell_type": "code",
   "execution_count": 11,
   "id": "ranging-evaluation",
   "metadata": {},
   "outputs": [],
   "source": [
    "# Defining the optimizer and loss function\n",
    "cnn.compile(optimizer=\"adam\", loss=\"categorical_crossentropy\", metrics=[\"accuracy\"])"
   ]
  },
  {
   "cell_type": "code",
   "execution_count": 12,
   "id": "improving-deadline",
   "metadata": {},
   "outputs": [
    {
     "name": "stdout",
     "output_type": "stream",
     "text": [
      "Epoch 1/30\n",
      "2905/2906 [============================>.] - ETA: 0s - loss: 1.3203 - acc: 0.5217Epoch 1/30\n",
      "2906/2906 [==============================] - 317s 109ms/step - loss: 1.3202 - acc: 0.5217 - val_loss: 1.3649 - val_acc: 0.4818\n",
      "Epoch 2/30\n",
      "2905/2906 [============================>.] - ETA: 0s - loss: 1.2138 - acc: 0.5644Epoch 1/30\n",
      "2906/2906 [==============================] - 330s 114ms/step - loss: 1.2138 - acc: 0.5644 - val_loss: 1.3245 - val_acc: 0.5051\n",
      "Epoch 3/30\n",
      "2905/2906 [============================>.] - ETA: 0s - loss: 1.1517 - acc: 0.5861Epoch 1/30\n",
      "2906/2906 [==============================] - 390s 134ms/step - loss: 1.1517 - acc: 0.5861 - val_loss: 1.3582 - val_acc: 0.5049\n",
      "Epoch 4/30\n",
      "2905/2906 [============================>.] - ETA: 0s - loss: 1.1176 - acc: 0.6003Epoch 1/30\n",
      "2906/2906 [==============================] - 356s 122ms/step - loss: 1.1176 - acc: 0.6002 - val_loss: 1.3798 - val_acc: 0.4997\n",
      "Epoch 5/30\n",
      "2905/2906 [============================>.] - ETA: 0s - loss: 1.0945 - acc: 0.6086Epoch 1/30\n",
      "2906/2906 [==============================] - 372s 128ms/step - loss: 1.0945 - acc: 0.6086 - val_loss: 1.2693 - val_acc: 0.5249\n",
      "Epoch 6/30\n",
      "2905/2906 [============================>.] - ETA: 0s - loss: 1.0758 - acc: 0.6167Epoch 1/30\n",
      "2906/2906 [==============================] - 383s 132ms/step - loss: 1.0759 - acc: 0.6167 - val_loss: 1.2893 - val_acc: 0.5302\n",
      "Epoch 7/30\n",
      "2905/2906 [============================>.] - ETA: 0s - loss: 1.0611 - acc: 0.6208Epoch 1/30\n",
      "2906/2906 [==============================] - 337s 116ms/step - loss: 1.0613 - acc: 0.6207 - val_loss: 1.2970 - val_acc: 0.5237\n",
      "Epoch 8/30\n",
      "2905/2906 [============================>.] - ETA: 0s - loss: 1.0530 - acc: 0.6251Epoch 1/30\n",
      "2906/2906 [==============================] - 341s 117ms/step - loss: 1.0531 - acc: 0.6251 - val_loss: 1.2637 - val_acc: 0.5368\n",
      "Epoch 9/30\n",
      "2905/2906 [============================>.] - ETA: 0s - loss: 1.0416 - acc: 0.6289Epoch 1/30\n",
      "2906/2906 [==============================] - 338s 116ms/step - loss: 1.0415 - acc: 0.6290 - val_loss: 1.2434 - val_acc: 0.5443\n",
      "Epoch 10/30\n",
      "2905/2906 [============================>.] - ETA: 0s - loss: 1.0341 - acc: 0.6319Epoch 1/30\n",
      "2906/2906 [==============================] - 332s 114ms/step - loss: 1.0341 - acc: 0.6319 - val_loss: 1.3069 - val_acc: 0.5247\n",
      "Epoch 11/30\n",
      "2905/2906 [============================>.] - ETA: 0s - loss: 1.0239 - acc: 0.6349Epoch 1/30\n",
      "2906/2906 [==============================] - 325s 112ms/step - loss: 1.0239 - acc: 0.6349 - val_loss: 1.2650 - val_acc: 0.5451\n",
      "Epoch 12/30\n",
      "2905/2906 [============================>.] - ETA: 0s - loss: 1.0208 - acc: 0.6359Epoch 1/30\n",
      "2906/2906 [==============================] - 337s 116ms/step - loss: 1.0209 - acc: 0.6359 - val_loss: 1.2527 - val_acc: 0.5464\n",
      "Epoch 13/30\n",
      "2905/2906 [============================>.] - ETA: 0s - loss: 1.0157 - acc: 0.6393Epoch 1/30\n",
      "2906/2906 [==============================] - 331s 114ms/step - loss: 1.0157 - acc: 0.6393 - val_loss: 1.3006 - val_acc: 0.5320\n",
      "Epoch 14/30\n",
      "2905/2906 [============================>.] - ETA: 0s - loss: 1.0104 - acc: 0.6391Epoch 1/30\n",
      "2906/2906 [==============================] - 355s 122ms/step - loss: 1.0104 - acc: 0.6390 - val_loss: 1.2909 - val_acc: 0.5312\n",
      "Epoch 15/30\n",
      "2905/2906 [============================>.] - ETA: 0s - loss: 1.0097 - acc: 0.6406Epoch 1/30\n",
      "2906/2906 [==============================] - 356s 122ms/step - loss: 1.0097 - acc: 0.6406 - val_loss: 1.2612 - val_acc: 0.5467\n",
      "Epoch 16/30\n",
      "2905/2906 [============================>.] - ETA: 0s - loss: 0.9999 - acc: 0.6433Epoch 1/30\n",
      "2906/2906 [==============================] - 342s 118ms/step - loss: 0.9999 - acc: 0.6433 - val_loss: 1.2622 - val_acc: 0.5467\n",
      "Epoch 17/30\n",
      "2905/2906 [============================>.] - ETA: 0s - loss: 0.9965 - acc: 0.6452Epoch 1/30\n",
      "2906/2906 [==============================] - 325s 112ms/step - loss: 0.9966 - acc: 0.6452 - val_loss: 1.2631 - val_acc: 0.5396\n",
      "Epoch 18/30\n",
      "2905/2906 [============================>.] - ETA: 0s - loss: 0.9914 - acc: 0.6449Epoch 1/30\n",
      "2906/2906 [==============================] - 354s 122ms/step - loss: 0.9914 - acc: 0.6449 - val_loss: 1.2708 - val_acc: 0.5458\n",
      "Epoch 19/30\n",
      "2905/2906 [============================>.] - ETA: 0s - loss: 0.9866 - acc: 0.6473Epoch 1/30\n",
      "2906/2906 [==============================] - 371s 128ms/step - loss: 0.9865 - acc: 0.6473 - val_loss: 1.2704 - val_acc: 0.5489\n",
      "Epoch 20/30\n",
      "2905/2906 [============================>.] - ETA: 0s - loss: 0.9839 - acc: 0.6486Epoch 1/30\n",
      "2906/2906 [==============================] - 356s 122ms/step - loss: 0.9840 - acc: 0.6486 - val_loss: 1.2949 - val_acc: 0.5395\n",
      "Epoch 21/30\n",
      "2905/2906 [============================>.] - ETA: 0s - loss: 0.9790 - acc: 0.6517Epoch 1/30\n",
      "2906/2906 [==============================] - 340s 117ms/step - loss: 0.9791 - acc: 0.6516 - val_loss: 1.2368 - val_acc: 0.5534\n",
      "Epoch 22/30\n",
      "2905/2906 [============================>.] - ETA: 0s - loss: 0.9752 - acc: 0.6512Epoch 1/30\n",
      "2906/2906 [==============================] - 328s 113ms/step - loss: 0.9751 - acc: 0.6513 - val_loss: 1.2830 - val_acc: 0.5389\n",
      "Epoch 23/30\n",
      "2905/2906 [============================>.] - ETA: 0s - loss: 0.9716 - acc: 0.6528Epoch 1/30\n",
      "2906/2906 [==============================] - 328s 113ms/step - loss: 0.9715 - acc: 0.6528 - val_loss: 1.3430 - val_acc: 0.5309\n",
      "Epoch 24/30\n",
      "2905/2906 [============================>.] - ETA: 0s - loss: 0.9711 - acc: 0.6542Epoch 1/30\n",
      "2906/2906 [==============================] - 325s 112ms/step - loss: 0.9710 - acc: 0.6542 - val_loss: 1.2831 - val_acc: 0.5470\n",
      "Epoch 25/30\n",
      "2905/2906 [============================>.] - ETA: 0s - loss: 0.9704 - acc: 0.6540Epoch 1/30\n",
      "2906/2906 [==============================] - 328s 113ms/step - loss: 0.9704 - acc: 0.6540 - val_loss: 1.2767 - val_acc: 0.5462\n",
      "Epoch 26/30\n",
      "2905/2906 [============================>.] - ETA: 0s - loss: 0.9658 - acc: 0.6544Epoch 1/30\n",
      "2906/2906 [==============================] - 332s 114ms/step - loss: 0.9658 - acc: 0.6544 - val_loss: 1.3080 - val_acc: 0.5389\n",
      "Epoch 27/30\n",
      "2905/2906 [============================>.] - ETA: 0s - loss: 0.9633 - acc: 0.6560Epoch 1/30\n",
      "2906/2906 [==============================] - 361s 124ms/step - loss: 0.9634 - acc: 0.6560 - val_loss: 1.2779 - val_acc: 0.5411\n",
      "Epoch 28/30\n",
      "2905/2906 [============================>.] - ETA: 0s - loss: 0.9604 - acc: 0.6570Epoch 1/30\n",
      "2906/2906 [==============================] - 380s 131ms/step - loss: 0.9604 - acc: 0.6570 - val_loss: 1.2447 - val_acc: 0.5551\n",
      "Epoch 29/30\n",
      "2905/2906 [============================>.] - ETA: 0s - loss: 0.9601 - acc: 0.6569Epoch 1/30\n",
      "2906/2906 [==============================] - 359s 124ms/step - loss: 0.9601 - acc: 0.6569 - val_loss: 1.2717 - val_acc: 0.5486\n",
      "Epoch 30/30\n",
      "2905/2906 [============================>.] - ETA: 0s - loss: 0.9543 - acc: 0.6590Epoch 1/30\n",
      "2906/2906 [==============================] - 353s 122ms/step - loss: 0.9542 - acc: 0.6590 - val_loss: 1.2863 - val_acc: 0.5444\n"
     ]
    },
    {
     "data": {
      "text/plain": [
       "<tensorflow.python.keras.callbacks.History at 0x7fcf457cd358>"
      ]
     },
     "execution_count": 12,
     "metadata": {},
     "output_type": "execute_result"
    }
   ],
   "source": [
    "#Training the CNN Model\n",
    "cnn.fit(x=train_generator, validation_data=test_generator, epochs=30)"
   ]
  },
  {
   "cell_type": "code",
   "execution_count": 70,
   "id": "dependent-tribune",
   "metadata": {},
   "outputs": [],
   "source": [
    "# Using the Model to make Predictions\n",
    "def predictEmotion(filepath):\n",
    "    \n",
    "    img1 = image.load_img(filepath, target_size = (64,64))\n",
    "    \n",
    "    plt.imshow(img1)\n",
    "    \n",
    "    Y = image.img_to_array(img1, dtype=int)\n",
    "    X = np.expand_dims(Y, axis=0)\n",
    "    \n",
    "    result = cnn.predict(X)\n",
    "    index = np.argmax(result)\n",
    "    \n",
    "    #print(index)\n",
    "    \n",
    "    print(\"Predicted Emotion: \", class_names[index])\n",
    "        "
   ]
  },
  {
   "cell_type": "code",
   "execution_count": 71,
   "id": "duplicate-evidence",
   "metadata": {},
   "outputs": [],
   "source": [
    "# Making Predictions of random images"
   ]
  },
  {
   "cell_type": "code",
   "execution_count": 141,
   "id": "national-contact",
   "metadata": {},
   "outputs": [
    {
     "name": "stdout",
     "output_type": "stream",
     "text": [
      "Predicted Emotion:  Surprise\n"
     ]
    },
    {
     "data": {
      "image/png": "[encoded data removed]",
      "text/plain": [
       "<matplotlib.figure.Figure at 0x7fcf4714e2e8>"
      ]
     },
     "metadata": {
      "needs_background": "light"
     },
     "output_type": "display_data"
    }
   ],
   "source": [
    "predictEmotion(r\"/Users/trishit/Code/Udemy/Tensorflow-Bootcamp/Human-Emotion-Detection/prediction_images/14.jpg\")"
   ]
  },
  {
   "cell_type": "code",
   "execution_count": null,
   "id": "elegant-collaboration",
   "metadata": {},
   "outputs": [],
   "source": []
  }
 ],
 "metadata": {
  "kernelspec": {
   "display_name": "Python 3",
   "language": "python",
   "name": "python3"
  },
  "language_info": {
   "codemirror_mode": {
    "name": "ipython",
    "version": 3
   },
   "file_extension": ".py",
   "mimetype": "text/x-python",
   "name": "python",
   "nbconvert_exporter": "python",
   "pygments_lexer": "ipython3",
   "version": "3.5.4"
  }
 },
 "nbformat": 4,
 "nbformat_minor": 5
}
